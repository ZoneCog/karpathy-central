{
 "cells": [
  {
   "cell_type": "markdown",
   "metadata": {},
   "source": [
    "# micrograd has moved to its own repo\n",
    "\n",
    "\n",
    "The most recent version of this notebook now lives [here](https://github.com/karpathy/micrograd/blob/master/demo.ipynb)\n",
    "\n",
    "The full autograd engine is in the single file [micrograd/engine.py](https://github.com/karpathy/micrograd/blob/master/micrograd/engine.py)\n",
    "\n",
    "And the neural net libraryis in the single file [micrograd/nn.py](https://github.com/karpathy/micrograd/blob/master/micrograd/nn.py)\n"
   ]
  }
 ],
 "metadata": {
  "kernelspec": {
   "display_name": "Python 3",
   "language": "python",
   "name": "python3"
  },
  "language_info": {
   "codemirror_mode": {
    "name": "ipython",
    "version": 3
   },
   "file_extension": ".py",
   "mimetype": "text/x-python",
   "name": "python",
   "nbconvert_exporter": "python",
   "pygments_lexer": "ipython3",
   "version": "3.6.5"
  }
 },
 "nbformat": 4,
 "nbformat_minor": 2
}
