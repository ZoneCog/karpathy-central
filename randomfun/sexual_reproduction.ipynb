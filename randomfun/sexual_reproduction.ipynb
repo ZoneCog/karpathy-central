{
 "cells": [
  {
   "cell_type": "code",
   "execution_count": 1,
   "metadata": {},
   "outputs": [],
   "source": [
    "import numpy as np\n",
    "import matplotlib.pyplot as plt\n",
    "%matplotlib inline\n",
    "np.random.seed(1337)"
   ]
  },
  {
   "cell_type": "code",
   "execution_count": 2,
   "metadata": {},
   "outputs": [],
   "source": [
    "# parameters of the model\n",
    "num_alleles = 64\n",
    "num_genes = 100\n",
    "mutation_rate = 0.05\n",
    "num_pop = 1000\n",
    "ratio_survive = 0.2\n",
    "num_epochs = 200"
   ]
  },
  {
   "cell_type": "code",
   "execution_count": 3,
   "metadata": {},
   "outputs": [],
   "source": [
    "# fitness matrix for each gene for each allele\n",
    "F = np.random.randn(num_genes, num_alleles)"
   ]
  },
  {
   "cell_type": "code",
   "execution_count": 4,
   "metadata": {},
   "outputs": [
    {
     "data": {
      "text/plain": [
       "array([ 9, 60, 44, 26, 41, 21, 47, 59, 18,  2, 56, 48, 30, 49, 17, 61,  7,\n",
       "       15, 30, 16, 56,  3, 20, 29, 37,  2, 46, 31, 50,  8, 45, 56, 24, 41,\n",
       "       14,  0, 29, 40, 43, 44, 32, 18, 40, 35, 44, 37, 13, 17, 17, 35, 63,\n",
       "       46, 14, 55, 12,  9, 45, 45, 21, 39, 19, 57, 22, 47, 42,  4,  2, 20,\n",
       "        3, 40, 42, 54,  3, 31, 43, 10, 63, 30, 39, 29, 30, 54, 52,  3, 48,\n",
       "       22, 56, 33, 49, 41, 29, 15, 30, 20, 27, 45, 43,  6, 54, 41])"
      ]
     },
     "execution_count": 4,
     "metadata": {},
     "output_type": "execute_result"
    }
   ],
   "source": [
    "# example chromosome: just an array of allele identities for each gene\n",
    "chromosome = np.random.randint(0, num_alleles, num_genes)\n",
    "chromosome"
   ]
  },
  {
   "cell_type": "code",
   "execution_count": 5,
   "metadata": {},
   "outputs": [
    {
     "data": {
      "text/plain": [
       "array([ 9, 46, 44, 26, 41, 21, 47, 59, 55,  2, 57, 48, 30, 49, 17, 61,  7,\n",
       "       15, 30, 16, 56,  3, 20, 29, 37,  2, 46, 31, 50,  8, 45, 56, 24, 41,\n",
       "       14,  0, 29, 40, 43, 44, 32, 18, 40, 35, 44, 37, 13, 17, 17, 35, 63,\n",
       "       32, 14, 55, 12,  9, 45, 45, 21, 39, 19, 57, 22, 47, 42,  4,  2, 20,\n",
       "        3, 40, 42, 54,  3, 31, 43, 10, 63, 30, 39, 29, 30, 54, 52,  3, 48,\n",
       "       22, 56, 33, 49, 41, 29, 15, 30, 20, 27, 45, 43,  6, 54, 41])"
      ]
     },
     "execution_count": 5,
     "metadata": {},
     "output_type": "execute_result"
    }
   ],
   "source": [
    "def mutate(ch):\n",
    "  # randomly mutate some parts of chromosome\n",
    "  m = np.random.rand(*ch.shape) <= mutation_rate\n",
    "  return np.where(m, np.random.randint(0, num_alleles, ch.shape), ch)\n",
    "mutate(chromosome)"
   ]
  },
  {
   "cell_type": "code",
   "execution_count": 6,
   "metadata": {},
   "outputs": [
    {
     "data": {
      "text/plain": [
       "array([ 9, 63, 44, 26, 41, 21, 47, 59, 18,  2, 56, 48, 30, 49, 17, 61,  7,\n",
       "       15, 30, 16, 56,  3, 20, 29, 37,  2, 46, 31, 14,  8, 45, 56, 24, 41,\n",
       "       14,  0, 29, 40, 43, 44, 32, 18, 40, 35, 44, 37, 13, 17, 17, 35, 63,\n",
       "       46, 14, 35, 12,  9, 45, 45, 21, 39, 19, 57, 22, 47, 42,  4,  2,  2,\n",
       "       57, 40, 42, 54,  3, 31, 43, 10, 63, 30, 39, 29, 30, 54, 52,  3, 48,\n",
       "       22, 56, 33, 49, 41, 29, 15, 30, 20, 27, 45, 43,  6, 54, 41])"
      ]
     },
     "execution_count": 6,
     "metadata": {},
     "output_type": "execute_result"
    }
   ],
   "source": [
    "def crossover(ch1, ch2):\n",
    "  # randomly mix parts of two chromosomes\n",
    "  m = np.random.rand(*ch1.shape) < 0.5\n",
    "  return np.where(m, ch1, ch2)\n",
    "crossover(mutate(chromosome), mutate(chromosome))"
   ]
  },
  {
   "cell_type": "code",
   "execution_count": 7,
   "metadata": {},
   "outputs": [
    {
     "data": {
      "text/plain": [
       "(1000, 100)"
      ]
     },
     "execution_count": 7,
     "metadata": {},
     "output_type": "execute_result"
    }
   ],
   "source": [
    "seed_chromosome = np.random.randint(0, num_alleles, (1, num_genes))\n",
    "pop = mutate(np.repeat(seed_chromosome, num_pop, axis=0))\n",
    "pop.shape # num_pop x num_genes"
   ]
  },
  {
   "cell_type": "code",
   "execution_count": 8,
   "metadata": {},
   "outputs": [],
   "source": [
    "# asexual reproduction model\n",
    "asexual = []\n",
    "pop = mutate(np.repeat(seed_chromosome, num_pop, axis=0))\n",
    "for i in range(num_epochs):\n",
    "  # eval and log current population fitness\n",
    "  fit = F[range(num_genes), pop].mean(1)\n",
    "  asexual.append(float(np.mean(fit)))\n",
    "  # survive the most fit organisms\n",
    "  ix = np.argsort(fit)[::-1]\n",
    "  nsurv = int(ratio_survive * num_pop)\n",
    "  surv = pop[ix[:nsurv]]\n",
    "  # reproduce a new generation via mutation of random surviving organisms\n",
    "  repix = np.random.randint(0, nsurv, num_pop - nsurv)\n",
    "  children = mutate(pop[repix])\n",
    "  pop = np.concatenate((surv, children))"
   ]
  },
  {
   "cell_type": "code",
   "execution_count": 9,
   "metadata": {},
   "outputs": [],
   "source": [
    "# sexual reproduction model\n",
    "sexual = []\n",
    "pop = mutate(np.repeat(seed_chromosome, num_pop, axis=0))\n",
    "for i in range(num_epochs):\n",
    "  # eval and log current population fitness\n",
    "  fit = F[range(num_genes), pop].mean(1)\n",
    "  sexual.append(float(np.mean(fit)))\n",
    "  # survive the most fit organisms\n",
    "  ix = np.argsort(fit)[::-1]\n",
    "  nsurv = int(ratio_survive * num_pop)\n",
    "  surv = pop[ix[:nsurv]]\n",
    "  # reproduce a new generation via crossover + mutation of two parents\n",
    "  repix1 = np.random.randint(0, nsurv, num_pop - nsurv)\n",
    "  repix2 = np.random.randint(0, nsurv, num_pop - nsurv)\n",
    "  children = mutate(crossover(pop[repix1], pop[repix2]))\n",
    "  pop = np.concatenate((surv, children))"
   ]
  },
  {
   "cell_type": "code",
   "execution_count": 10,
   "metadata": {},
   "outputs": [
    {
     "data": {
      "image/png": "[encoded data removed]",
      "text/plain": [
       "<Figure size 432x288 with 1 Axes>"
      ]
     },
     "metadata": {
      "needs_background": "light"
     },
     "output_type": "display_data"
    }
   ],
   "source": [
    "plt.plot(asexual, '-r')\n",
    "plt.plot(sexual, '-g')\n",
    "plt.legend(['asexual', 'sexual'])\n",
    "plt.ylabel('fitness mean')\n",
    "plt.xlabel('epoch');"
   ]
  },
  {
   "cell_type": "code",
   "execution_count": 11,
   "metadata": {},
   "outputs": [],
   "source": [
    "# :O"
   ]
  }
 ],
 "metadata": {
  "kernelspec": {
   "display_name": "Python 3",
   "language": "python",
   "name": "python3"
  },
  "language_info": {
   "codemirror_mode": {
    "name": "ipython",
    "version": 3
   },
   "file_extension": ".py",
   "mimetype": "text/x-python",
   "name": "python",
   "nbconvert_exporter": "python",
   "pygments_lexer": "ipython3",
   "version": "3.8.5"
  }
 },
 "nbformat": 4,
 "nbformat_minor": 4
}
