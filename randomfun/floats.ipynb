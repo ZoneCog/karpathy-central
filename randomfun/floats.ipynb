{
 "cells": [
  {
   "cell_type": "markdown",
   "metadata": {},
   "source": [
    "I am following the 3rd Global Edition of **Computer Systems: A Programmer's Perspective** by Bryant and O'Hallaron. IEEE floats are covered in Section 2.4.2\n",
    "\n",
    "IEEE-754 floating-point standard represents a number in a form $V = (-1)^s \\times M \\times 2^E$\n",
    "\n",
    "- sign $s$: 1 is negative, 0 is positive\n",
    "- significand $M$ is a fractional binary number that ranges between 1 and 2-eps (for normalized floats) or between 0 and 1-eps (for denormalized floats)\n",
    "- exponent $E$ weights the value by a (possibly negative) power of 2\n",
    "\n",
    "In particular:\n",
    "- fp32 has 1 sign bit, 8 exponent bits (uint with bias of 127), 23 fraction bits\n",
    "- fp64 has 1 sign bit, 11 exponent bits (uint with bias of 1023), 52 fraction bits\n",
    "\n",
    "Depending on exponent bits the value represented falls into three cases:\n",
    "- **Normalized values** when exp is not all zero or all one. The exponent value is the uint in the exp field, shifted by a bias. The fractional value 0 <= f < 1 is encoded in the frac bits. The significand M is then M = 1 + f (\"implied leading 1 representation\"). This representation is a trick for getting an additional bit of precision for free, since (just as is the case in scientific notation) we can always adjust the exponent E so that the significant M is in the range 1 <= M < 2 (assuming there is no overflow). We therefore do not need to explicitly represent the leading bit, since it will always equal 1.\n",
    "- **Denormalized values** when exp is all zeros, then exponent is \"clamped\" to E = 1 - bias (instead of simply -bias, as it would be if we followed the rules for normalized values), but then the significand M not does not assume the leading bit, so 0 <= M < 1. Since M == 0 is now a possibility we can also represent exact zero.\n",
    "- **Spcial cases** when exp field is all ones. When fraction field is all zeros we get pos/neg infinity depending on sign bit. Otherwise we get nan. (Hey that's a lot of wasted representation space to collapse into nan! :))"
   ]
  },
  {
   "cell_type": "code",
   "execution_count": 1,
   "metadata": {},
   "outputs": [],
   "source": [
    "class UInt:\n",
    "    \n",
    "    @classmethod\n",
    "    def val(self, bits: str):\n",
    "        u = sum(int(d) * 2**i for i,d in enumerate(bits[::-1]))\n",
    "        return u\n",
    "\n",
    "class Frac:\n",
    "    \n",
    "    @classmethod\n",
    "    def val(self, bits: str):\n",
    "        u = sum(int(d) * 2**(-i-1) for i,d in enumerate(bits))\n",
    "        return u"
   ]
  },
  {
   "cell_type": "code",
   "execution_count": 2,
   "metadata": {},
   "outputs": [],
   "source": [
    "from fractions import Fraction\n",
    "\n",
    "class Float:\n",
    "    \n",
    "    @classmethod\n",
    "    def val(self, bits: str, verbose=True):\n",
    "        \n",
    "        # the bits are string, with a space between the sign bit, exponent and fraction\n",
    "        sign_bits, exp_bits, frac_bits = bits.split(' ')\n",
    "        assert len(sign_bits) == 1\n",
    "        assert len(exp_bits)  >= 1\n",
    "        assert len(frac_bits) >= 1\n",
    "        k = len(exp_bits)\n",
    "        n = len(frac_bits)\n",
    "        bias = 2**(k - 1) - 1\n",
    "        \n",
    "        # decode the raw binary representations of the exponent and the fraction\n",
    "        sign = int(sign_bits)\n",
    "        e = UInt.val(exp_bits)\n",
    "        f = Frac.val(frac_bits)\n",
    "        # now interpret the \"implied\" exponent / fraction and handle special cases\n",
    "        if e == 2**k - 1:\n",
    "            # all of exponent bits are 1: special-cased infinity, nan, etc.\n",
    "            if f == 0:\n",
    "                # when fraction is all zeros we get infinity\n",
    "                if verbose:\n",
    "                    print(f\"{bits=} {'+' if sign == 0 else '-'}Infinity\")\n",
    "                return float('inf') if sign == 0 else float('-inf')\n",
    "            else:\n",
    "                # otherwise we get nan\n",
    "                if verbose:\n",
    "                    print(f\"{bits=} NaN\")\n",
    "                return float('nan')\n",
    "        elif e > 0:\n",
    "            # a typical normalized float\n",
    "            E = e - bias\n",
    "            M = 1 + f\n",
    "        elif e == 0:\n",
    "            # all of exponent bits are 0: denormalized float\n",
    "            E = 1 - bias # we basically \"cap\" e at min of 1, to create an equal-spaced gradual underflow of IEEE754 float\n",
    "            M = f # there is no leading 1. (allowing us to also create an actual zero)\n",
    "        else:\n",
    "            raise ValueError(\"??? should never make it here\")\n",
    "        \n",
    "        # construct the (Python) float manually\n",
    "        V = (-1)**sign * M * 2**E\n",
    "        \n",
    "        # debugging and such\n",
    "        twoPowE = str(2**E) if E >= 0 else \"1/\" + str(2**-E)\n",
    "        fNum = sum(int(d) * 2**(n-i-1) for i,d in enumerate(frac_bits))\n",
    "        fDen = 2**n\n",
    "        fStr = f'{fNum}/{fDen}'\n",
    "        Mnum = fNum + (0 if e == 0 else fDen) # the 2nd expression implements the \"1 + \" part in construction of M from f\n",
    "        Mden = fDen\n",
    "        MStr = f'{Mnum}/{Mden}'\n",
    "        if verbose:\n",
    "            Vfrac = str(Fraction.from_float(V))\n",
    "            print(f\"{bits=} {e=:2}, {E=:3}, 2^E={twoPowE:5}, f={fStr:5}, M={MStr:5}, V={Vfrac:8} Decimal={V}\")\n",
    "        return V\n"
   ]
  },
  {
   "cell_type": "code",
   "execution_count": 3,
   "metadata": {},
   "outputs": [
    {
     "name": "stdout",
     "output_type": "stream",
     "text": [
      "bits='0 0000 000' e= 0, E= -6, 2^E=1/64 , f=0/8  , M=0/8  , V=0        Decimal=0.0\n",
      "bits='0 0000 001' e= 0, E= -6, 2^E=1/64 , f=1/8  , M=1/8  , V=1/512    Decimal=0.001953125\n",
      "bits='0 0000 010' e= 0, E= -6, 2^E=1/64 , f=2/8  , M=2/8  , V=1/256    Decimal=0.00390625\n",
      "bits='0 0000 011' e= 0, E= -6, 2^E=1/64 , f=3/8  , M=3/8  , V=3/512    Decimal=0.005859375\n",
      "...\n",
      "bits='0 0000 111' e= 0, E= -6, 2^E=1/64 , f=7/8  , M=7/8  , V=7/512    Decimal=0.013671875\n",
      "bits='0 0001 000' e= 1, E= -6, 2^E=1/64 , f=0/8  , M=8/8  , V=1/64     Decimal=0.015625\n",
      "bits='0 0001 001' e= 1, E= -6, 2^E=1/64 , f=1/8  , M=9/8  , V=9/512    Decimal=0.017578125\n",
      "...\n",
      "bits='0 0110 110' e= 6, E= -1, 2^E=1/2  , f=6/8  , M=14/8 , V=7/8      Decimal=0.875\n",
      "bits='0 0110 111' e= 6, E= -1, 2^E=1/2  , f=7/8  , M=15/8 , V=15/16    Decimal=0.9375\n",
      "bits='0 0111 000' e= 7, E=  0, 2^E=1    , f=0/8  , M=8/8  , V=1        Decimal=1.0\n",
      "bits='0 0111 001' e= 7, E=  0, 2^E=1    , f=1/8  , M=9/8  , V=9/8      Decimal=1.125\n",
      "bits='0 0111 010' e= 7, E=  0, 2^E=1    , f=2/8  , M=10/8 , V=5/4      Decimal=1.25\n",
      "...\n",
      "bits='0 1110 110' e=14, E=  7, 2^E=128  , f=6/8  , M=14/8 , V=224      Decimal=224.0\n",
      "bits='0 1110 111' e=14, E=  7, 2^E=128  , f=7/8  , M=15/8 , V=240      Decimal=240.0\n",
      "bits='0 1111 000' +Infinity\n",
      "bits='1 1111 000' -Infinity\n",
      "bits='1 1111 111' NaN\n"
     ]
    }
   ],
   "source": [
    "# Reproduce Figure 2.35 (Page 145). Floats with k=4 exponent bits, n=3 fraction bits\n",
    "\n",
    "# Denormalized float values\n",
    "Float.val(\"0 0000 000\") # zero\n",
    "Float.val(\"0 0000 001\") # smallest positive\n",
    "Float.val(\"0 0000 010\")\n",
    "Float.val(\"0 0000 011\")\n",
    "print('...')\n",
    "Float.val(\"0 0000 111\") # largest denormalized\n",
    "# Normalized float values\n",
    "Float.val(\"0 0001 000\") # smallest normalized\n",
    "Float.val(\"0 0001 001\")\n",
    "print('...')\n",
    "Float.val(\"0 0110 110\")\n",
    "Float.val(\"0 0110 111\")\n",
    "Float.val(\"0 0111 000\") # one\n",
    "Float.val(\"0 0111 001\")\n",
    "Float.val(\"0 0111 010\")\n",
    "print('...')\n",
    "Float.val(\"0 1110 110\")\n",
    "Float.val(\"0 1110 111\") # largest normalized\n",
    "# Special values\n",
    "Float.val(\"0 1111 000\") # infinity\n",
    "Float.val(\"1 1111 000\") # infinity\n",
    "Float.val(\"1 1111 111\"); # infinity"
   ]
  },
  {
   "cell_type": "code",
   "execution_count": 4,
   "metadata": {},
   "outputs": [],
   "source": [
    "# we need a bit of tooling for creating inputs to Float\n",
    "\n",
    "from functools import partial\n",
    "\n",
    "def gen_bits(n):\n",
    "    # generate all bit strings of length n in increasing order\n",
    "    for i in range(2**n):\n",
    "        b = str(bin(i))[2:]\n",
    "        b = '0' * (n - len(b)) + b\n",
    "        yield b\n",
    "\n",
    "def chunk_str3(s, parts):\n",
    "    assert sum(parts) == len(s)\n",
    "    return s[:parts[0]] + ' ' + s[parts[0]:parts[0]+parts[1]] + ' ' + s[parts[0]+parts[1]:]\n"
   ]
  },
  {
   "cell_type": "code",
   "execution_count": 5,
   "metadata": {},
   "outputs": [
    {
     "name": "stdout",
     "output_type": "stream",
     "text": [
      "bits='0 000 00' e= 0, E= -2, 2^E=1/4  , f=0/4  , M=0/4  , V=0        Decimal=0.0\n",
      "bits='0 000 01' e= 0, E= -2, 2^E=1/4  , f=1/4  , M=1/4  , V=1/16     Decimal=0.0625\n",
      "bits='0 000 10' e= 0, E= -2, 2^E=1/4  , f=2/4  , M=2/4  , V=1/8      Decimal=0.125\n",
      "bits='0 000 11' e= 0, E= -2, 2^E=1/4  , f=3/4  , M=3/4  , V=3/16     Decimal=0.1875\n",
      "bits='0 001 00' e= 1, E= -2, 2^E=1/4  , f=0/4  , M=4/4  , V=1/4      Decimal=0.25\n",
      "bits='0 001 01' e= 1, E= -2, 2^E=1/4  , f=1/4  , M=5/4  , V=5/16     Decimal=0.3125\n",
      "bits='0 001 10' e= 1, E= -2, 2^E=1/4  , f=2/4  , M=6/4  , V=3/8      Decimal=0.375\n",
      "bits='0 001 11' e= 1, E= -2, 2^E=1/4  , f=3/4  , M=7/4  , V=7/16     Decimal=0.4375\n",
      "bits='0 010 00' e= 2, E= -1, 2^E=1/2  , f=0/4  , M=4/4  , V=1/2      Decimal=0.5\n",
      "bits='0 010 01' e= 2, E= -1, 2^E=1/2  , f=1/4  , M=5/4  , V=5/8      Decimal=0.625\n",
      "bits='0 010 10' e= 2, E= -1, 2^E=1/2  , f=2/4  , M=6/4  , V=3/4      Decimal=0.75\n",
      "bits='0 010 11' e= 2, E= -1, 2^E=1/2  , f=3/4  , M=7/4  , V=7/8      Decimal=0.875\n",
      "bits='0 011 00' e= 3, E=  0, 2^E=1    , f=0/4  , M=4/4  , V=1        Decimal=1.0\n",
      "bits='0 011 01' e= 3, E=  0, 2^E=1    , f=1/4  , M=5/4  , V=5/4      Decimal=1.25\n",
      "bits='0 011 10' e= 3, E=  0, 2^E=1    , f=2/4  , M=6/4  , V=3/2      Decimal=1.5\n",
      "bits='0 011 11' e= 3, E=  0, 2^E=1    , f=3/4  , M=7/4  , V=7/4      Decimal=1.75\n",
      "bits='0 100 00' e= 4, E=  1, 2^E=2    , f=0/4  , M=4/4  , V=2        Decimal=2.0\n",
      "bits='0 100 01' e= 4, E=  1, 2^E=2    , f=1/4  , M=5/4  , V=5/2      Decimal=2.5\n",
      "bits='0 100 10' e= 4, E=  1, 2^E=2    , f=2/4  , M=6/4  , V=3        Decimal=3.0\n",
      "bits='0 100 11' e= 4, E=  1, 2^E=2    , f=3/4  , M=7/4  , V=7/2      Decimal=3.5\n",
      "bits='0 101 00' e= 5, E=  2, 2^E=4    , f=0/4  , M=4/4  , V=4        Decimal=4.0\n",
      "bits='0 101 01' e= 5, E=  2, 2^E=4    , f=1/4  , M=5/4  , V=5        Decimal=5.0\n",
      "bits='0 101 10' e= 5, E=  2, 2^E=4    , f=2/4  , M=6/4  , V=6        Decimal=6.0\n",
      "bits='0 101 11' e= 5, E=  2, 2^E=4    , f=3/4  , M=7/4  , V=7        Decimal=7.0\n",
      "bits='0 110 00' e= 6, E=  3, 2^E=8    , f=0/4  , M=4/4  , V=8        Decimal=8.0\n",
      "bits='0 110 01' e= 6, E=  3, 2^E=8    , f=1/4  , M=5/4  , V=10       Decimal=10.0\n",
      "bits='0 110 10' e= 6, E=  3, 2^E=8    , f=2/4  , M=6/4  , V=12       Decimal=12.0\n",
      "bits='0 110 11' e= 6, E=  3, 2^E=8    , f=3/4  , M=7/4  , V=14       Decimal=14.0\n",
      "bits='0 111 00' +Infinity\n",
      "bits='0 111 01' NaN\n",
      "bits='0 111 10' NaN\n",
      "bits='0 111 11' NaN\n"
     ]
    }
   ],
   "source": [
    "# Reproduce Figure 2.34, a scatter plot of a float range, for k=3 exponent bits and n=2 fraction bits\n",
    "\n",
    "import matplotlib\n",
    "import numpy as np\n",
    "import matplotlib.pyplot as plt\n",
    "%matplotlib inline  \n",
    "\n",
    "vs = []\n",
    "chunk = partial(chunk_str3, parts=(1, 3, 2))\n",
    "for bstr in map(chunk, gen_bits(6)):\n",
    "    V = Float.val(bstr, verbose=bstr[0]=='0')\n",
    "    vs.append(V)\n"
   ]
  },
  {
   "cell_type": "markdown",
   "metadata": {},
   "source": [
    "**Observation**: Sorted binary representations map to sorted floats. This is because M is always 0 < M < 2, while bumping the exponent bit by 1 produces a 2X jump."
   ]
  },
  {
   "cell_type": "code",
   "execution_count": 6,
   "metadata": {},
   "outputs": [
    {
     "data": {
      "image/png": "[encoded data removed]",
      "text/plain": [
       "<Figure size 1440x144 with 1 Axes>"
      ]
     },
     "metadata": {
      "needs_background": "light"
     },
     "output_type": "display_data"
    }
   ],
   "source": [
    "# plot all the achieved values, full range of representation (except infs and nans ofc)\n",
    "plt.figure(figsize=(20, 2))\n",
    "plt.scatter(vs, [0]*len(vs), s=40)\n",
    "plt.grid()"
   ]
  },
  {
   "cell_type": "code",
   "execution_count": 7,
   "metadata": {},
   "outputs": [
    {
     "data": {
      "image/png": "[encoded data removed]",
      "text/plain": [
       "<Figure size 1440x144 with 1 Axes>"
      ]
     },
     "metadata": {
      "needs_background": "light"
     },
     "output_type": "display_data"
    }
   ],
   "source": [
    "# zoom in on range -1..1, expecting to see uniform spacing near zero via denormalized \"gradual underflow\"\n",
    "plt.figure(figsize=(20, 2))\n",
    "plt.scatter(vs, [0]*len(vs), s=40)\n",
    "plt.xlim(-1, 1)\n",
    "plt.grid()"
   ]
  },
  {
   "cell_type": "code",
   "execution_count": 8,
   "metadata": {},
   "outputs": [
    {
     "name": "stdout",
     "output_type": "stream",
     "text": [
      "bits='0 00 00' e= 0, E=  0, 2^E=1    , f=0/4  , M=0/4  , V=0        Decimal=0.0\n",
      "bits='0 00 01' e= 0, E=  0, 2^E=1    , f=1/4  , M=1/4  , V=1/4      Decimal=0.25\n",
      "bits='0 00 10' e= 0, E=  0, 2^E=1    , f=2/4  , M=2/4  , V=1/2      Decimal=0.5\n",
      "bits='0 00 11' e= 0, E=  0, 2^E=1    , f=3/4  , M=3/4  , V=3/4      Decimal=0.75\n",
      "bits='0 01 00' e= 1, E=  0, 2^E=1    , f=0/4  , M=4/4  , V=1        Decimal=1.0\n",
      "bits='0 01 01' e= 1, E=  0, 2^E=1    , f=1/4  , M=5/4  , V=5/4      Decimal=1.25\n",
      "bits='0 01 10' e= 1, E=  0, 2^E=1    , f=2/4  , M=6/4  , V=3/2      Decimal=1.5\n",
      "bits='0 01 11' e= 1, E=  0, 2^E=1    , f=3/4  , M=7/4  , V=7/4      Decimal=1.75\n",
      "bits='0 10 00' e= 2, E=  1, 2^E=2    , f=0/4  , M=4/4  , V=2        Decimal=2.0\n",
      "bits='0 10 01' e= 2, E=  1, 2^E=2    , f=1/4  , M=5/4  , V=5/2      Decimal=2.5\n",
      "bits='0 10 10' e= 2, E=  1, 2^E=2    , f=2/4  , M=6/4  , V=3        Decimal=3.0\n",
      "bits='0 10 11' e= 2, E=  1, 2^E=2    , f=3/4  , M=7/4  , V=7/2      Decimal=3.5\n",
      "bits='0 11 00' +Infinity\n",
      "bits='0 11 01' NaN\n",
      "bits='0 11 10' NaN\n",
      "bits='0 11 11' NaN\n"
     ]
    }
   ],
   "source": [
    "# Now Practice Problem 2.47: 5-bit float with k=2, n=2\n",
    "\n",
    "chunk = partial(chunk_str3, parts=(1, 2, 2))\n",
    "for bstr in map(chunk, gen_bits(5)):\n",
    "    Float.val(bstr, verbose=bstr[0]=='0')\n",
    "    "
   ]
  },
  {
   "cell_type": "code",
   "execution_count": 9,
   "metadata": {},
   "outputs": [
    {
     "name": "stdout",
     "output_type": "stream",
     "text": [
      "bits='0 10001100 10000001110010000000000' e=140, E= 13, 2^E=8192 , f=4252672/8388608, M=12641280/8388608, V=12345    Decimal=12345.0\n",
      "12345.0\n"
     ]
    }
   ],
   "source": [
    "# fp32 example given in the book, verify it gives the integer 12,345\n",
    "book_bits = '0 10001100 10000001110010000000000'\n",
    "V = Float.val(book_bits)\n",
    "print(V)\n",
    "assert V == 12345.0"
   ]
  },
  {
   "cell_type": "code",
   "execution_count": 10,
   "metadata": {},
   "outputs": [
    {
     "name": "stdout",
     "output_type": "stream",
     "text": [
      "0 10001100 10000001110010000000000\n"
     ]
    }
   ],
   "source": [
    "# now, as suggested in the book, let's go backwards: take the integer 12,345 and get the fp32 bit pattern\n",
    "\n",
    "def bits(n: int):\n",
    "    bits = []\n",
    "    while n:\n",
    "        bits.append(n % 2)\n",
    "        n = n // 2\n",
    "    return ''.join(map(str, bits[::-1]))\n",
    "\n",
    "num = 12345\n",
    "bitstr = bits(num) # 11000000111001\n",
    "nshift = len(bitstr) - 1 # number of times we have to shift to normalize the number into scientific notation\n",
    "frac_bits = bitstr[1:] + '0'*(23 - nshift) # drop the leading 1, and pad to 23 bits of mantissa in fp32\n",
    "sign_bits = '0' if num >= 0 else '1'\n",
    "ebitstr = bits(127 + nshift) # 127 is the fp32 bias. since we have 8 exp bits, we have 2**(8-1)-1 = 127\n",
    "exp_bits = '0' * (8 - len(ebitstr)) + ebitstr # encode the exponent, with padding of zeros as needed in front\n",
    "bits = ' '.join((sign_bits, exp_bits, frac_bits))\n",
    "print(bits)\n",
    "assert bits == book_bits"
   ]
  },
  {
   "cell_type": "code",
   "execution_count": 11,
   "metadata": {},
   "outputs": [
    {
     "name": "stdout",
     "output_type": "stream",
     "text": [
      "0 10001100 10000001110010000000000\n"
     ]
    }
   ],
   "source": [
    "# finally let's also check that Python / struct agree\n",
    "import struct\n",
    "\n",
    "def binary(num):\n",
    "    return ''.join('{:0>8b}'.format(c) for c in struct.pack('!f', num))\n",
    "\n",
    "py_bits = chunk_str3(binary(12345), (1, 8, 23))\n",
    "print(py_bits)\n",
    "assert py_bits == book_bits"
   ]
  }
 ],
 "metadata": {
  "kernelspec": {
   "display_name": "Python 3",
   "language": "python",
   "name": "python3"
  },
  "language_info": {
   "codemirror_mode": {
    "name": "ipython",
    "version": 3
   },
   "file_extension": ".py",
   "mimetype": "text/x-python",
   "name": "python",
   "nbconvert_exporter": "python",
   "pygments_lexer": "ipython3",
   "version": "3.8.5"
  }
 },
 "nbformat": 4,
 "nbformat_minor": 4
}
